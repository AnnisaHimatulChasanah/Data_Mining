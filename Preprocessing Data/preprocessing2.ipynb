{
 "cells": [
  {
   "cell_type": "code",
   "execution_count": 23,
   "id": "facca91b-e4ae-4207-a7e8-b2566537b1bb",
   "metadata": {},
   "outputs": [],
   "source": [
    "import numpy as np\n",
    "import pandas as pd\n",
    "import matplotlib.pyplot as plt"
   ]
  },
  {
   "cell_type": "code",
   "execution_count": 24,
   "id": "feda374d-f1ef-4083-849b-4a4a15b9cb58",
   "metadata": {},
   "outputs": [],
   "source": [
    "dataset = pd.read_csv('data_diabetes1.csv', sep=';')"
   ]
  },
  {
   "cell_type": "code",
   "execution_count": 25,
   "id": "77e177ff-df61-4348-878a-7a3fc3325fa1",
   "metadata": {},
   "outputs": [],
   "source": [
    "X = dataset.iloc[:, :-1].values   # Semua kolom kecuali 'Outcome'\n",
    "y = dataset.iloc[:, -1].values    # Hanya kolom 'Outcome'"
   ]
  },
  {
   "cell_type": "code",
   "execution_count": 26,
   "id": "aa5a9717-9a1f-44f5-aa69-0a22f61bdd35",
   "metadata": {},
   "outputs": [],
   "source": [
    "from sklearn.model_selection import train_test_split\n",
    "X_train, X_test, y_train, y_test = train_test_split(X, y, test_size=0.2, random_state=0)"
   ]
  },
  {
   "cell_type": "code",
   "execution_count": 27,
   "id": "e86b6287-efca-4367-958e-ebb434570408",
   "metadata": {},
   "outputs": [
    {
     "name": "stdout",
     "output_type": "stream",
     "text": [
      "[[  nan  72.    nan  56.   20.8]\n",
      " [ 71.    nan   0.    0.   21.8]\n",
      " [ 74.   70.   40.   49.   35.3]\n",
      " [  nan  78.   30.    0.   27.6]\n",
      " [115.    nan   0.    0.   24. ]\n",
      " [124.   56.   13.  105.   21.8]\n",
      " [  nan  52.   10.   36.   27.8]\n",
      " [ 97.   64.   36.  100.   36.8]\n",
      " [120.    0.    0.    0.   30. ]\n",
      " [154.   78.   41.  140.   46.1]\n",
      " [144.   82.   40.    0.   41.3]\n",
      " [137.   70.   38.    0.   33.2]\n",
      " [119.   66.    nan   0.   38.8]\n",
      " [136.   90.    0.    0.   29.9]\n",
      " [114.   64.    0.    0.   28.9]\n",
      " [137.   84.   27.    0.   27.3]\n",
      " [105.   80.   45.  191.   33.7]\n",
      " [114.   76.   17.  110.   23.8]\n",
      " [126.   74.    nan  75.    nan]\n",
      " [132.   86.   31.    0.   28. ]]\n"
     ]
    }
   ],
   "source": [
    "print(X)"
   ]
  },
  {
   "cell_type": "code",
   "execution_count": 28,
   "id": "1f559214-1832-41b4-a2dc-66af09479629",
   "metadata": {},
   "outputs": [],
   "source": [
    "#Menghilangkan missing value(NaN)\n",
    "from sklearn.impute import SimpleImputer\n",
    "imputer = SimpleImputer(missing_values=np.nan, strategy='mean')\n",
    "imputer.fit(X[:, 0:5])\n",
    "X[:, 0:5] = imputer.transform(X[:, 0:5])"
   ]
  },
  {
   "cell_type": "code",
   "execution_count": 29,
   "id": "c3addec7-aff6-42ae-a68a-fd3479145bda",
   "metadata": {},
   "outputs": [
    {
     "name": "stdout",
     "output_type": "stream",
     "text": [
      "[[118.76470588  72.          21.64705882  56.          20.8       ]\n",
      " [ 71.          69.           0.           0.          21.8       ]\n",
      " [ 74.          70.          40.          49.          35.3       ]\n",
      " [118.76470588  78.          30.           0.          27.6       ]\n",
      " [115.          69.           0.           0.          24.        ]\n",
      " [124.          56.          13.         105.          21.8       ]\n",
      " [118.76470588  52.          10.          36.          27.8       ]\n",
      " [ 97.          64.          36.         100.          36.8       ]\n",
      " [120.           0.           0.           0.          30.        ]\n",
      " [154.          78.          41.         140.          46.1       ]\n",
      " [144.          82.          40.           0.          41.3       ]\n",
      " [137.          70.          38.           0.          33.2       ]\n",
      " [119.          66.          21.64705882   0.          38.8       ]\n",
      " [136.          90.           0.           0.          29.9       ]\n",
      " [114.          64.           0.           0.          28.9       ]\n",
      " [137.          84.          27.           0.          27.3       ]\n",
      " [105.          80.          45.         191.          33.7       ]\n",
      " [114.          76.          17.         110.          23.8       ]\n",
      " [126.          74.          21.64705882  75.          30.36315789]\n",
      " [132.          86.          31.           0.          28.        ]]\n"
     ]
    }
   ],
   "source": [
    "print(X)"
   ]
  },
  {
   "cell_type": "code",
   "execution_count": 8,
   "id": "35122b4b-d867-403f-bb2b-5960e037c076",
   "metadata": {},
   "outputs": [],
   "source": [
    "#membagi dataset ke dalam taining set dan test set\n",
    "from sklearn.model_selection import train_test_split\n",
    "X_train, X_test, y_train, y_test = train_test_split(X, y, test_size=0.2, random_state=0)"
   ]
  },
  {
   "cell_type": "code",
   "execution_count": 9,
   "id": "ab2bdf82-61b2-4bd5-8816-1290f2a39877",
   "metadata": {},
   "outputs": [
    {
     "name": "stdout",
     "output_type": "stream",
     "text": [
      "[[144.          82.          40.           0.          41.3       ]\n",
      " [114.          76.          17.         110.          23.8       ]\n",
      " [118.76470588  52.          10.          36.          27.8       ]\n",
      " [136.          90.           0.           0.          29.9       ]\n",
      " [115.          69.           0.           0.          24.        ]\n",
      " [ 74.          70.          40.          49.          35.3       ]\n",
      " [124.          56.          13.         105.          21.8       ]\n",
      " [114.          64.           0.           0.          28.9       ]\n",
      " [154.          78.          41.         140.          46.1       ]\n",
      " [ 97.          64.          36.         100.          36.8       ]\n",
      " [105.          80.          45.         191.          33.7       ]\n",
      " [137.          70.          38.           0.          33.2       ]\n",
      " [118.76470588  78.          30.           0.          27.6       ]\n",
      " [118.76470588  72.          21.64705882  56.          20.8       ]\n",
      " [137.          84.          27.           0.          27.3       ]\n",
      " [119.          66.          21.64705882   0.          38.8       ]]\n"
     ]
    }
   ],
   "source": [
    "print(X_train)"
   ]
  },
  {
   "cell_type": "code",
   "execution_count": 10,
   "id": "5c266148-1ee1-44fa-99e2-e475a000f94b",
   "metadata": {},
   "outputs": [
    {
     "name": "stdout",
     "output_type": "stream",
     "text": [
      "[[126.          74.          21.64705882  75.          30.36315789]\n",
      " [ 71.          69.           0.           0.          21.8       ]\n",
      " [132.          86.          31.           0.          28.        ]\n",
      " [120.           0.           0.           0.          30.        ]]\n"
     ]
    }
   ],
   "source": [
    "print(X_test)"
   ]
  },
  {
   "cell_type": "code",
   "execution_count": 11,
   "id": "f313dc77-c610-4a4e-9e54-4bb33578b446",
   "metadata": {},
   "outputs": [
    {
     "name": "stdout",
     "output_type": "stream",
     "text": [
      "[0 0 0 0 0 0 0 0 0 0 1 0 0 0 0 0]\n"
     ]
    }
   ],
   "source": [
    "print(y_train)"
   ]
  },
  {
   "cell_type": "code",
   "execution_count": 12,
   "id": "1c296e79-3a96-4b76-a002-8258bb406eb9",
   "metadata": {},
   "outputs": [
    {
     "name": "stdout",
     "output_type": "stream",
     "text": [
      "[0 0 0 1]\n"
     ]
    }
   ],
   "source": [
    "print(y_test)"
   ]
  },
  {
   "cell_type": "code",
   "execution_count": 13,
   "id": "77295c5f-4776-4d7c-bc60-97eb494c2289",
   "metadata": {},
   "outputs": [],
   "source": [
    "from sklearn.preprocessing import StandardScaler\n",
    "sc = StandardScaler()\n",
    "X_train[:, 0:] = sc.fit_transform(X_train[:, 0:])\n",
    "X_test[:, 0:] = sc.fit_transform(X_test[:, 0:])"
   ]
  },
  {
   "cell_type": "code",
   "execution_count": 14,
   "id": "01613641-5803-4aaf-9a22-0975a0908137",
   "metadata": {},
   "outputs": [
    {
     "name": "stdout",
     "output_type": "stream",
     "text": [
      "[[ 1.26725801  1.02007075  1.0629105  -0.82173103  1.45627257]\n",
      " [-0.3432116   0.41182981 -0.44322044  1.01593938 -1.03460293]\n",
      " [-0.08743113 -2.02113397 -0.90160811 -0.22031162 -0.46525996]\n",
      " [ 0.83779945  1.83105868 -1.55644765 -0.82173103 -0.1663549 ]\n",
      " [-0.28952928 -0.29778463 -1.55644765 -0.82173103 -1.00613578]\n",
      " [-2.49050441 -0.19641114  1.0629105  -0.00313239  0.60225811]\n",
      " [ 0.1936116  -1.61564001 -0.70515625  0.93240891 -1.31927441]\n",
      " [-0.3432116  -0.80465208 -1.55644765 -0.82173103 -0.30869064]\n",
      " [ 1.80408121  0.61457679  1.12839445  1.51712222  2.13948413]\n",
      " [-1.25581104 -0.80465208  0.80097469  0.84887844  0.81576172]\n",
      " [-0.82635248  0.81732377  1.39033027  2.36913305  0.37452092]\n",
      " [ 0.89148177 -0.19641114  0.93194259 -0.82173103  0.30335305]\n",
      " [-0.08743113  0.61457679  0.40807096 -0.82173103 -0.49372711]\n",
      " [-0.08743113  0.00633584 -0.13891265  0.11381027 -1.46161016]\n",
      " [ 0.89148177  1.22281773  0.2116191  -0.82173103 -0.53642783]\n",
      " [-0.0748     -0.6019051  -0.13891265 -0.82173103  1.10043321]]\n"
     ]
    }
   ],
   "source": [
    "print(X_train)"
   ]
  },
  {
   "cell_type": "code",
   "execution_count": 15,
   "id": "13d8534f-18ce-4eec-9828-7a3395e78741",
   "metadata": {},
   "outputs": [
    {
     "name": "stdout",
     "output_type": "stream",
     "text": [
      "[[ 0.56840145  0.49813094  0.62526094  1.73205081  0.82178847]\n",
      " [-1.70520435  0.34943514 -0.96985883 -0.57735027 -1.67154458]\n",
      " [ 0.81643117  0.85500086  1.31445671 -0.57735027  0.13370824]\n",
      " [ 0.32037173 -1.70256694 -0.96985883 -0.57735027  0.71604786]]\n"
     ]
    }
   ],
   "source": [
    "print(X_test)"
   ]
  },
  {
   "cell_type": "code",
   "execution_count": null,
   "id": "7cc3fafd-7547-4d21-8112-b9263b05e53f",
   "metadata": {},
   "outputs": [],
   "source": [
    "#encoding data kategori (atribut) Matrix X yang terbentuk sebelumnya\n",
    "#bertipe string, jadi perlu diubah ke numerik (int \n",
    "#atau float). karna saya sudah float tidak perlu kode berikut.\n",
    "#from sklearn.compose import ColumnTransformer\n",
    "#from sklearn.preprocessing import OneHotEncoder\n",
    "#ct = ColumnTransformer(transformers=[('encoder', OneHotEncoder(), [0])], remainder='passthrough')\n",
    "#X = np.array(ct.fit_transform(X))"
   ]
  },
  {
   "cell_type": "code",
   "execution_count": null,
   "id": "f35685ce-79a4-41fe-9059-20bb5a5dac30",
   "metadata": {},
   "outputs": [],
   "source": [
    "#untuk mengubah yes or no menjadi 1 dan 0 \n",
    "#from sklearn.preprocessing import LabelEncoder\n",
    "#le = LabelEncoder()\n",
    "#y = le.fit_transform(y)"
   ]
  },
  {
   "cell_type": "code",
   "execution_count": null,
   "id": "cdaf1f54-3de8-482c-b2ca-1cd82a249054",
   "metadata": {},
   "outputs": [],
   "source": []
  }
 ],
 "metadata": {
  "kernelspec": {
   "display_name": "Python 3 (ipykernel)",
   "language": "python",
   "name": "python3"
  },
  "language_info": {
   "codemirror_mode": {
    "name": "ipython",
    "version": 3
   },
   "file_extension": ".py",
   "mimetype": "text/x-python",
   "name": "python",
   "nbconvert_exporter": "python",
   "pygments_lexer": "ipython3",
   "version": "3.11.7"
  }
 },
 "nbformat": 4,
 "nbformat_minor": 5
}
